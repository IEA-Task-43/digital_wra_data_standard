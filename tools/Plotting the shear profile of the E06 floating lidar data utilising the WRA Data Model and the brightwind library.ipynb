{
 "cells": [
  {
   "cell_type": "markdown",
   "id": "8bf6ab34",
   "metadata": {},
   "source": [
    "<center>\n",
    "    \n",
    "# Plotting the shear profile of the E06 floating lidar data utilising the WRA Data Model and the brightwind library\n",
    "## by\n",
    "## Stephen Holleran (BrightWind), 26-Oct-2023\n",
    "\n",
    "</center>\n",
    "\n",
    "\n",
    "This is a notebook demonstrating some of the benefits of the Task 43 WRA Data Model using it with real data and the brightwind Python library. The brightwind library is an open-source Python library specifically developed for processing wind resource data. It can be installed using `pip install brightwind` and it's GitHub repo here: https://github.com/brightwind-dev/brightwind\n",
    "\n",
    "The timeseries data used here is publicly available for download at: https://oswbuoysny.resourcepanorama.dnv.com/.\n",
    "The WRA Data Model formatted JSON file for the E06 floating lidar was created by Daniel Nuno of Eolos and can be found in the 'demo_data' folder of this repository.\n",
    "\n",
    "This Notebook builds on the [Notebook](https://github.com/IEA-Task-43/digital_wra_data_standard/blob/e590563e9f6d6987c5f267055f0b542be0970f2e/tools/2023%20Workshop%20-%20Floating%20Lidar%20Demo%20-%20Daniel%20Nuno.ipynb) presented by Daniel Nuno (Eolos) during the [2023 Workshop](https://github.com/IEA-Task-43/digital_wra_data_standard/wiki/Presentations)."
   ]
  },
  {
   "cell_type": "code",
   "execution_count": null,
   "id": "da225df5",
   "metadata": {},
   "outputs": [],
   "source": [
    "import brightwind as bw\n",
    "import pandas as pd\n",
    "import pprint as pp"
   ]
  },
  {
   "cell_type": "markdown",
   "id": "57f6f279",
   "metadata": {},
   "source": [
    "## Load in WRA Data Model file\n",
    "\n",
    "Create a measurement station object using the E06 floating lidar WRA Data Model formatted JSON file produced by Eolos."
   ]
  },
  {
   "cell_type": "code",
   "execution_count": null,
   "id": "a3ae274f",
   "metadata": {},
   "outputs": [],
   "source": [
    "e06_data_model_file = '../demo_data/E06_wraMetaData.json' # this file is located in the 'demo_data' folder of the GitHub repository.\n",
    "meas_sta = bw.MeasurementStation(e06_data_model_file)"
   ]
  },
  {
   "cell_type": "markdown",
   "id": "5e148e0e",
   "metadata": {},
   "source": [
    "### Show the measurement station's high level info along with the vertical profiler properties"
   ]
  },
  {
   "cell_type": "code",
   "execution_count": null,
   "id": "80990387",
   "metadata": {},
   "outputs": [],
   "source": [
    "meas_sta.get_table()"
   ]
  },
  {
   "cell_type": "markdown",
   "id": "30b92625",
   "metadata": {},
   "source": [
    "The Name and Lat, Long values can be seen in the top half of the table. The bottom half contains the two vertical profiler\n",
    "properties used in this measurement campaign. One is for the lidar itself and the other is for an ADCP which is mounted underneath the buoy pointing down towards the sea floor.\n",
    "\n",
    "Note the `Device Datum Plane Height [m]` for the lidar is stated as 1.6 m above mean sea level.\n",
    "\n",
    "### Show all the logger configurations that exist for this station"
   ]
  },
  {
   "cell_type": "code",
   "execution_count": null,
   "id": "5a0eeb75",
   "metadata": {},
   "outputs": [],
   "source": [
    "meas_sta.logger_main_configs.get_table()"
   ]
  },
  {
   "cell_type": "markdown",
   "id": "16c71472",
   "metadata": {},
   "source": [
    "### Show all the measurements been made by this station"
   ]
  },
  {
   "cell_type": "code",
   "execution_count": null,
   "id": "140f2275",
   "metadata": {},
   "outputs": [],
   "source": [
    "meas_sta.measurements.get_table()"
   ]
  },
  {
   "cell_type": "markdown",
   "id": "1f3bbfb5",
   "metadata": {},
   "source": [
    "There are far to many rows for the dataframe to display so we can filter for just the horizontal wind speeds."
   ]
  },
  {
   "cell_type": "code",
   "execution_count": null,
   "id": "374c7a50",
   "metadata": {},
   "outputs": [],
   "source": [
    "meas_sta.measurements.get_table(wind_speeds=True)"
   ]
  },
  {
   "cell_type": "markdown",
   "id": "0f6e19ae",
   "metadata": {},
   "source": [
    "You can see all the lidar measurements start with the highest and working down in elevation. The last one is the onboard met station that is mounted on the buoy itself.\n",
    "\n",
    "## Load the timeseries data"
   ]
  },
  {
   "cell_type": "code",
   "execution_count": null,
   "id": "6086ad9c",
   "metadata": {},
   "outputs": [],
   "source": [
    "data = bw.load_csv('E06_Hudson_South_10_min_avg_20190904_20220327.csv', engine='python').apply(pd.to_numeric, \n",
    "                                                                                               errors='coerce')\n",
    "data.columns = data.columns.str.strip()"
   ]
  },
  {
   "cell_type": "markdown",
   "id": "c3663f97",
   "metadata": {},
   "source": [
    "Normally loading a csv into the brightwind library would be as simple as `bw.load_csv('filename.csv')`. However, due to poor formatting of the timeseries data file downloaded directly from the above link there are few extra things to do to read this in properly.\n",
    "1. `engine='python'` is added due to the 3 leading character spaces before the 'NaN' values, Pandas throws an error as it thinks there are multiple data types, strings and numeric in the one column.\n",
    "1. Also, due to this we need to force this to a numeric by using `.apply(pd.to_numeric, errors='coerce')`\n",
    "1. Finally, the column names for some reason have a leading space which needs to be stripped out using `data.columns.str.strip()`. \n",
    "\n",
    "Thanks to Daniel Nuno of Eolos for solving these issues."
   ]
  },
  {
   "cell_type": "code",
   "execution_count": null,
   "id": "63ece44e",
   "metadata": {},
   "outputs": [],
   "source": [
    "data"
   ]
  },
  {
   "cell_type": "markdown",
   "id": "139953b7",
   "metadata": {},
   "source": [
    "### Get the wind speeds and related heights from the data model\n",
    "The brightwind recommended method to assemble raw timeseries data files is to use the measurement point name as the \n",
    "column name in the resulting assembled file and not the raw column names. The raw column names can mean different things throughout a full measurement campaign. For example a raw column name of 'Ch1_Avg' may be wired to an anemometer mounted at 80 m. However, half way through the campaign a 60 m anemometer was wired to 'Ch1_Avg' instead. An assembled data file using 'Ch1_Avg' as the column name would now have wind speeds from 80 m and then switching to 60 m. The analyst would need to split this column of data. Using the measurement point name instead when assembling the daily files will already account for this splitting and provide a data file with a column name, for example, of 'Wspd_80m'. This could be used by the analyst immediately without any further splitting and rejigging.\n",
    "\n",
    "To account for this, the function below will find the correct column name and associated measurement heights which can then be used in the shear plot."
   ]
  },
  {
   "cell_type": "code",
   "execution_count": null,
   "id": "655e2cf2",
   "metadata": {
    "scrolled": true
   },
   "outputs": [],
   "source": [
    "def get_wspd_avg_cols_and_heights(measurements_data_model, min_height=0, max_height=1000):\n",
    "    '''\n",
    "    Get the wind speed average column names and associated heights.\n",
    "    Can filter for a height range.\n",
    "    Returns a tuple of list of column names and heights (tuple(list, list)).\n",
    "    '''\n",
    "    wspd_avg_col_names = []\n",
    "    wspd_avg_col_names_heights = []\n",
    "    for meas in measurements_data_model:\n",
    "        if meas.get('measurement_type_id') == 'wind_speed' and min_height <= meas.get('height_m') <= max_height:\n",
    "            wspd_avg_col_names_heights.append(meas.get('height_m'))\n",
    "            for column_name in meas.get('logger_measurement_config')[0].get('column_name'):\n",
    "                if column_name.get('statistic_type_id') == 'avg':\n",
    "                    wspd_avg_col_names.append(column_name.get('column_name'))\n",
    "    return (wspd_avg_col_names, wspd_avg_col_names_heights)"
   ]
  },
  {
   "cell_type": "markdown",
   "id": "af9aa024",
   "metadata": {},
   "source": [
    "Use the function to get the raw data column name heights for wind speeds and their associated heights. This is filtered by height to drop the met station wind speed which is mounted on the buoy at 1.4 m."
   ]
  },
  {
   "cell_type": "code",
   "execution_count": null,
   "id": "3c0f1b7d",
   "metadata": {},
   "outputs": [],
   "source": [
    "wspd_avg_col_names, wspd_avg_col_names_heights = get_wspd_avg_cols_and_heights(meas_sta.measurements.data_model, \n",
    "                                                                               min_height=20)\n",
    "\n",
    "print(\"Wind speed data column names:\")\n",
    "pp.pp(wspd_avg_col_names)\n",
    "print(\"\\nAssociated wind speed heights:\")\n",
    "pp.pp(wspd_avg_col_names_heights)"
   ]
  },
  {
   "cell_type": "markdown",
   "id": "1fcf5fca",
   "metadata": {},
   "source": [
    "Note that the data column name contains a height, e.g. _'lidar_lidar18m_Z10_HorizWS'_ of 18 m, which is different to the height of the measurement point. This 2 m height difference is to account for the lidar mounted on the buoy which is floating above the 'mean_sea_level' and the height of the device itself. As noted in the first table the `Device Datum Plane Height [m]` was stated as 1.6 m above mean sea level. "
   ]
  },
  {
   "cell_type": "markdown",
   "id": "827c1204",
   "metadata": {},
   "source": [
    "## Plot the shear"
   ]
  },
  {
   "cell_type": "markdown",
   "id": "f054900f",
   "metadata": {},
   "source": [
    "### Plot the average shear profile"
   ]
  },
  {
   "cell_type": "code",
   "execution_count": null,
   "id": "cfeb9e16",
   "metadata": {},
   "outputs": [],
   "source": [
    "average_power_law = bw.Shear.Average(data[wspd_avg_col_names], wspd_avg_col_names_heights)"
   ]
  },
  {
   "cell_type": "markdown",
   "id": "ba42880d",
   "metadata": {},
   "source": [
    "The above plot shows the average shear profile for this station. The average shear value, alpha, can be extracted from the resulting object as show below."
   ]
  },
  {
   "cell_type": "code",
   "execution_count": null,
   "id": "8841a26b",
   "metadata": {},
   "outputs": [],
   "source": [
    "print('The average shear alpha value for this station is: ', round(average_power_law.alpha, 2))"
   ]
  },
  {
   "cell_type": "markdown",
   "id": "403313f4",
   "metadata": {},
   "source": [
    "### Plot shear by direction sector\n",
    "\n",
    "For this plot a single wind direction measurement is required. The below function selects the first, which is the top most, wind speed and wind direction measurements. You can of course overwrite this."
   ]
  },
  {
   "cell_type": "code",
   "execution_count": null,
   "id": "6e761eb1",
   "metadata": {},
   "outputs": [],
   "source": [
    "# wspd_main = meas_sta.measurements.wspd_names[0]\n",
    "# wdir_main = meas_sta.measurements.wdir_names[0]\n",
    "wspd_main = wspd_avg_col_names[5]\n",
    "wdir_main = 'lidar_lidar18m_WD_alg_03'\n",
    "print('The main wind speed measurement for plotting is set to:\\t\\t{}'.format(wspd_main))\n",
    "print('The main wind direction measurement for plotting is set to:\\t{}'.format(wdir_main))"
   ]
  },
  {
   "cell_type": "code",
   "execution_count": null,
   "id": "ded2e9f9",
   "metadata": {},
   "outputs": [],
   "source": [
    "shear_by_sec_obj_pw_law = bw.Shear.BySector(data[wspd_avg_col_names], \n",
    "                                            wspd_avg_col_names_heights, \n",
    "                                            data[wdir_main], calc_method='power_law')"
   ]
  },
  {
   "cell_type": "markdown",
   "id": "4bc4b224",
   "metadata": {},
   "source": [
    "The above plot shows how the shear alpha value can change depending on the direction of the wind flow. Also show is how frequent the wind blows from each direction sector so you can assess if a high shear value from a particular direction has a big impact.\n",
    "\n",
    "### Shear plot by time of day"
   ]
  },
  {
   "cell_type": "code",
   "execution_count": null,
   "id": "dfa72268",
   "metadata": {},
   "outputs": [],
   "source": [
    "shear_by_time_of_day_obj_pw_law = bw.Shear.TimeOfDay(data[wspd_avg_col_names], wspd_avg_col_names_heights, \n",
    "                                                     calc_method='power_law')"
   ]
  },
  {
   "cell_type": "markdown",
   "id": "bc29b550",
   "metadata": {},
   "source": [
    "The above plot shows the daily profile of the shear alpha value for each calendar month. This shows a more diurnal effect during the summer months thant the winter ones.\n",
    "\n",
    "An alternative view of this plot is shown below as a heatmap."
   ]
  },
  {
   "cell_type": "code",
   "execution_count": null,
   "id": "c6e59da8",
   "metadata": {},
   "outputs": [],
   "source": [
    "shear_by_time_of_day_obj_pw_law = bw.Shear.TimeOfDay(data[wspd_avg_col_names], wspd_avg_col_names_heights, \n",
    "                                                     calc_method='power_law', plot_type='12x24')"
   ]
  },
  {
   "cell_type": "markdown",
   "id": "f5d4e89f",
   "metadata": {},
   "source": [
    "## Conclusions\n",
    "\n",
    "The above work shows how useful the WRA Data Model can be in developing automated workflows along with the use of the brightwind library. In this particular case there were some modifications needed to be performed on the data which was outside of our control. Nevertheless, this demonstrates the possibilities when the format of the timeseries data received can be controlled.\n",
    "\n",
    "Obviously, what is missing in this workflow are the quality control checks and cleaning of the timeseries data. Therefore, treat any results from this sample workflow with caution"
   ]
  },
  {
   "cell_type": "code",
   "execution_count": null,
   "id": "fb598d33",
   "metadata": {},
   "outputs": [],
   "source": []
  }
 ],
 "metadata": {
  "kernelspec": {
   "display_name": "Python 3 (ipykernel)",
   "language": "python",
   "name": "python3"
  },
  "language_info": {
   "codemirror_mode": {
    "name": "ipython",
    "version": 3
   },
   "file_extension": ".py",
   "mimetype": "text/x-python",
   "name": "python",
   "nbconvert_exporter": "python",
   "pygments_lexer": "ipython3",
   "version": "3.8.8"
  }
 },
 "nbformat": 4,
 "nbformat_minor": 5
}
