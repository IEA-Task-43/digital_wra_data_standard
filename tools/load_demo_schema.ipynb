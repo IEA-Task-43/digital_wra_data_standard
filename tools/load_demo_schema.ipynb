{
 "cells": [
  {
   "cell_type": "markdown",
   "metadata": {},
   "source": [
    "# Simple tool to read the demo JSON data model file"
   ]
  },
  {
   "cell_type": "code",
   "execution_count": null,
   "metadata": {},
   "outputs": [],
   "source": [
    "import os\n",
    "import json\n",
    "import pandas as pd\n",
    "import numpy as np\n",
    "import requests"
   ]
  },
  {
   "cell_type": "markdown",
   "metadata": {},
   "source": [
    "Note: Requires Pandas version +1.0"
   ]
  },
  {
   "cell_type": "markdown",
   "metadata": {},
   "source": [
    "### Load the JSON file"
   ]
  },
  {
   "cell_type": "code",
   "execution_count": null,
   "metadata": {},
   "outputs": [],
   "source": [
    "try:\n",
    "    # first try to load the file from your computer\n",
    "    cwd = os.getcwd()\n",
    "    file_path = os.path.relpath(r'..\\demo_data\\iea43_wra_data_model.json', cwd)\n",
    "    with open(file_path) as json_file:\n",
    "        meta_data = json.load(json_file)\n",
    "    print(\"Loaded JSON file from local machine.\")\n",
    "except FileNotFoundError:\n",
    "    # If the file isn't found, load it from GitHub\n",
    "    url = \"https://raw.githubusercontent.com/IEA-Task-43/digital_wra_data_standard/master/demo_data/iea43_wra_data_model.json\"\n",
    "    resp = requests.get(url)\n",
    "    meta_data = json.loads(resp.text)\n",
    "    print(\"Loaded JSON file from GitHub.\")"
   ]
  },
  {
   "cell_type": "markdown",
   "metadata": {},
   "source": [
    "### Show high level Data Model information"
   ]
  },
  {
   "cell_type": "code",
   "execution_count": null,
   "metadata": {},
   "outputs": [],
   "source": [
    "print('Author name:\\t\\t\\t{}'.format(meta_data['author']))\n",
    "print('Author from:\\t\\t\\t{}'.format(meta_data['organisation']))\n",
    "print('Date produced:\\t\\t\\t{}'.format(meta_data['date']))\n",
    "print('IEA Data Model version\\t\\t{}'.format(meta_data['version']))\n",
    "\n",
    "print('Plant name:\\t\\t\\t{}'.format(meta_data['plant_name']))\n",
    "print('Plant type:\\t\\t\\t{}'.format(meta_data['plant_type']))\n"
   ]
  },
  {
   "cell_type": "markdown",
   "metadata": {},
   "source": [
    "### Show all the measurement locations"
   ]
  },
  {
   "cell_type": "code",
   "execution_count": null,
   "metadata": {},
   "outputs": [],
   "source": [
    "# print a table of the meas_locs parameters.\n",
    "meas_locs = []\n",
    "for meas_loc in meta_data['measurement_location']:\n",
    "    meas_locs.append({\n",
    "        'Name': meas_loc['name'],\n",
    "        'Latitude [Decimal Degrees]': meas_loc['latitude_ddeg'],\n",
    "        'Longitude [Decimal Degrees]': meas_loc['longitude_ddeg'],\n",
    "        'Station Type': meas_loc['measurement_station_type_id'],\n",
    "        'Notes': meas_loc['notes'],\n",
    "        'Last Updated': meas_loc['update_at'],\n",
    "        'Mast Type': meas_loc['mast_properties']['mast_geometry_id'],\n",
    "        'Mast Height': meas_loc['mast_properties']['mast_height_m'],\n",
    "        'Mast OEM': meas_loc['mast_properties']['mast_oem']\n",
    "    })\n",
    "\n",
    "meas_locs_df = pd.DataFrame(meas_locs)\n",
    "meas_locs_df.set_index('Name', inplace=True)\n",
    "display(meas_locs_df)"
   ]
  },
  {
   "cell_type": "markdown",
   "metadata": {},
   "source": [
    "### Logger main configurations"
   ]
  },
  {
   "cell_type": "code",
   "execution_count": null,
   "metadata": {},
   "outputs": [],
   "source": [
    "logger_main_config = []\n",
    "for meas_loc in meta_data['measurement_location']:\n",
    "    for log_config in meas_loc['logger_main_config']:\n",
    "        logger_main_config.append(log_config)\n",
    "\n",
    "logger_main_config_df = pd.DataFrame(logger_main_config)\n",
    "display(logger_main_config_df.set_index('logger_name'))"
   ]
  },
  {
   "cell_type": "markdown",
   "metadata": {},
   "source": [
    "### Some functions to pull out and format the measurement points set ups."
   ]
  },
  {
   "cell_type": "code",
   "execution_count": null,
   "metadata": {},
   "outputs": [],
   "source": [
    "def _flatten_sensor_dict(sensor):\n",
    "    \"\"\"\n",
    "        Flatten the sensor dictionary retrieved from jason\n",
    "        assigning all the sub-dictionaries to the main dictionary.\n",
    "\n",
    "        :param sensor: The sensor dictionary retrieved for a single configuration\n",
    "                           option and meas_point id.\n",
    "        :type sensor: dict\n",
    "        :return: output\n",
    "        :rtype: dict\n",
    "\n",
    "    \"\"\"\n",
    "    output = {key: value for key, value in sensor.items() if (type(value) != list) or (value == {})}\n",
    "    for key, value in zip(sensor.keys(), sensor.values()):\n",
    "        if (type(value) == list):\n",
    "            if key == 'calibration':\n",
    "                value = {key + \"_\" + k: v for k, v in value[0].items()}\n",
    "            output.update(value)\n",
    "    return output"
   ]
  },
  {
   "cell_type": "code",
   "execution_count": null,
   "metadata": {},
   "outputs": [],
   "source": [
    "def rename_variables(input_dict, root_name):\n",
    "    for var_to_rename in ['height_m', 'serial_number', 'update_at', 'notes']:\n",
    "        if var_to_rename in list(input_dict.keys()):\n",
    "            input_dict[ root_name + '_' + var_to_rename] = input_dict.pop(var_to_rename)\n",
    "    return input_dict"
   ]
  },
  {
   "cell_type": "code",
   "execution_count": null,
   "metadata": {},
   "outputs": [],
   "source": [
    "def replace_none_date(input_dict):\n",
    "    for date_str in ['date_from', 'date_to']:\n",
    "        if input_dict[date_str] is None:\n",
    "            input_dict[date_str] = '2100-12-31'\n",
    "    return input_dict"
   ]
  },
  {
   "cell_type": "code",
   "execution_count": null,
   "metadata": {},
   "outputs": [],
   "source": [
    "def get_meas_points(meas_points):\n",
    "    \n",
    "    meas_points_flatten = []\n",
    "    for meas_point in meas_points:\n",
    "#         meas_point = _flatten_meas_point_dict(meas_point)\n",
    "        log_meas_configs = sorted( meas_point['logger_measurement_config'], key=lambda i: i['date_from'])\n",
    "        log_meas_configs = [replace_none_date(rename_variables(log_meas_config, 'log_meas_config')) for log_meas_config in log_meas_configs]\n",
    "        sensors = [replace_none_date(rename_variables(_flatten_sensor_dict(sensor), 'sensor')) for sensor in meas_point['sensor']]\n",
    "        if meas_point['mounting_arrangement'] is not None:\n",
    "            mounting_arrangements = [replace_none_date(rename_variables(mntg_arrang, 'mounting_arrangement')) \n",
    "                                 for mntg_arrang in meas_point['mounting_arrangement']]\n",
    "        else:\n",
    "            mounting_arrangements = {}\n",
    "        \n",
    "        date_from = [log_meas_config['date_from'] for log_meas_config in log_meas_configs]\n",
    "        date_to = [log_meas_config['date_to'] for log_meas_config in log_meas_configs]\n",
    "        for sensor in sensors:\n",
    "            date_from.append(sensor['date_from'])\n",
    "            date_to.append(sensor['date_to'])\n",
    "        for mntg_arrang in mounting_arrangements:\n",
    "            date_from.append(mntg_arrang['date_from'])\n",
    "            date_to.append(mntg_arrang['date_to'])\n",
    "        \n",
    "        date_from.extend(date_to)\n",
    "        dates = np.unique(date_from)\n",
    "        for i in range(len(dates)-1): \n",
    "            good_log_meas_config = {}\n",
    "            for log_meas_config in log_meas_configs:\n",
    "                if (log_meas_config['date_from'] <= dates[i]) & (log_meas_config['date_to'] > dates[i]):\n",
    "                    good_log_meas_config = log_meas_config.copy()\n",
    "            if good_log_meas_config != {}:\n",
    "                for sensor in sensors: \n",
    "                    if (sensor['date_from'] <= dates[i]) & (sensor['date_to'] > dates[i]) :\n",
    "                        good_log_meas_config.update(sensor)\n",
    "                for mntg_arrang in mounting_arrangements:\n",
    "                    if (mntg_arrang['date_from'] <= dates[i]) & (mntg_arrang['date_to'] > dates[i]) :\n",
    "                        good_log_meas_config.update(mntg_arrang)\n",
    "                good_log_meas_config['date_to'] = dates[i+1]\n",
    "                good_log_meas_config['date_from'] = dates[i]\n",
    "                good_log_meas_config.update(meas_point)\n",
    "                del good_log_meas_config['logger_measurement_config']\n",
    "                del good_log_meas_config['sensor'] \n",
    "                meas_points_flatten.append(good_log_meas_config)\n",
    "    return meas_points_flatten "
   ]
  },
  {
   "cell_type": "code",
   "execution_count": null,
   "metadata": {},
   "outputs": [],
   "source": [
    "def _format_sensor_table(meas_points, table_type='full'):\n",
    "    \n",
    "    if table_type == 'full':\n",
    "        header = ['name', 'measurement_units', 'oem',\n",
    "                  'height_m', 'boom_orientation_deg', 'vane_dead_band_orientation_deg',\n",
    "                  'date_from', 'date_to', 'connection_channel', 'log_meas_config_height_m', 'slope', 'offset', 'calibration_slope',\n",
    "                  'calibration_offset']\n",
    "        header_for_report = ['Instrument Name', 'Units', 'Sensor OEM',\n",
    "                        'Height [m]', 'Boom Orient. [deg, mag N]', 'Dead Band Orient. [deg, mag N]',\n",
    "                        'Date From', 'Date To', 'Logger Channel', 'Logger Stated Height [m]', 'Logger Slope', 'Logger Offset', 'Calibration Slope',\n",
    "                        'Calibration Offset']\n",
    "    elif table_type == 'meas_points':\n",
    "        header = ['name', 'measurement_type_id', 'height_m', 'boom_orientation_deg']\n",
    "        header_for_report = ['Instrument Name', 'Measurement Type', 'Height [m]', 'Boom Orient. [deg, mag N]']    \n",
    "    elif table_type == 'speed_info':\n",
    "        header = ['name', 'measurement_units', 'oem', 'model', 'sensor_serial_number',\n",
    "                  'height_m', 'boom_orientation_deg', \n",
    "                  'date_from', 'date_to', 'slope', 'offset', 'calibration_slope',\n",
    "                  'calibration_offset', 'measurement_type_id']\n",
    "        header_for_report = ['Instrument Name', 'Units', 'Sensor Make', 'Sensor Model', 'Serial No',\n",
    "                             'Height [m]', 'Boom Orient. [deg, mag N]',\n",
    "                             'Date From', 'Date To', 'Logger Slope', 'Logger Offset', 'Calibration Slope',\n",
    "                             'Calibration Offset', 'measurement_type_id']\n",
    "    elif table_type == 'direction_info':\n",
    "        header = ['name', 'measurement_units', 'oem', 'model', 'sensor_serial_number',\n",
    "                  'height_m', 'boom_orientation_deg', 'vane_dead_band_orientation_deg', \n",
    "                  'date_from', 'date_to', 'offset', 'measurement_type_id']\n",
    "        header_for_report = ['Instrument Name', 'Units', 'Sensor Make', 'Sensor Model', 'Serial No',\n",
    "                             'Height [m]', 'Boom Orient. [deg, mag N]', 'Dead Band Orient. [deg, mag N]',\n",
    "                             'Date From', 'Date To', 'Logger Offset', 'measurement_type_id']\n",
    "    \n",
    "    sensors_table_report = pd.DataFrame(meas_points)\n",
    "\n",
    "    if any(elem not in sensors_table_report.columns for elem in header):\n",
    "        ind_to_remove = [ind for ind, elem in enumerate(header) if elem not in sensors_table_report.columns]\n",
    "        del header[ind_to_remove[0]]\n",
    "        del header_for_report[ind_to_remove[0]]\n",
    "    \n",
    "    sensors_table_report = pd.DataFrame(sensors_table_report[header])\n",
    "    if table_type == 'speed_info':\n",
    "        sensors_table_report = sensors_table_report[sensors_table_report['measurement_type_id'] == 'wind_speed']\n",
    "        del sensors_table_report['measurement_type_id']\n",
    "    if table_type == 'direction_info':\n",
    "        sensors_table_report = sensors_table_report[sensors_table_report['measurement_type_id'] == 'wind_direction']\n",
    "        del sensors_table_report['measurement_type_id']\n",
    "    \n",
    "    if 'date_from' in sensors_table_report.columns:\n",
    "        sensors_table_report['date_from'] = pd.to_datetime(sensors_table_report['date_from'].values.astype(str)).strftime(\"%d-%b-%Y\")\n",
    "    if 'date_to' in sensors_table_report.columns:\n",
    "        sensors_table_report['date_to'] = pd.to_datetime(sensors_table_report['date_to'].values.astype(str)).strftime(\"%d-%b-%Y\")\n",
    "\n",
    "    sensors_table_report = sensors_table_report.replace({np.nan: '-', 'NaT': '-', '31-Dec-2100':'-'})\n",
    "    sensors_table_report.rename(columns={k: h for k, h in zip(header, header_for_report)}, inplace=True)\n",
    "    index_name = 'Instrument Name'\n",
    "    sensors_table_report = sensors_table_report.set_index(index_name)\n",
    "    \n",
    "    return sensors_table_report"
   ]
  },
  {
   "cell_type": "markdown",
   "metadata": {},
   "source": [
    "### The main measurment points"
   ]
  },
  {
   "cell_type": "code",
   "execution_count": null,
   "metadata": {
    "scrolled": false
   },
   "outputs": [],
   "source": [
    "for meas_loc in meta_data['measurement_location']:  \n",
    "    logger_meas_configs = get_meas_points(meas_loc['measurement_point'])\n",
    "    sensors_table = _format_sensor_table(logger_meas_configs, table_type='meas_points')\n",
    "    display(sensors_table.drop_duplicates())"
   ]
  },
  {
   "cell_type": "markdown",
   "metadata": {},
   "source": [
    "### More details on each measurement point"
   ]
  },
  {
   "cell_type": "code",
   "execution_count": null,
   "metadata": {},
   "outputs": [],
   "source": [
    "for meas_loc in meta_data['measurement_location']:\n",
    "    logger_meas_configs = get_meas_points(meas_loc['measurement_point'])\n",
    "    sensors_table = _format_sensor_table(logger_meas_configs)\n",
    "    display(sensors_table)"
   ]
  },
  {
   "cell_type": "markdown",
   "metadata": {},
   "source": [
    "### Anemometer (or wind speed) specific table"
   ]
  },
  {
   "cell_type": "code",
   "execution_count": null,
   "metadata": {},
   "outputs": [],
   "source": [
    "for meas_loc in meta_data['measurement_location']:    \n",
    "    sensors_table = _format_sensor_table(logger_meas_configs, table_type='speed_info')\n",
    "    display(sensors_table.drop_duplicates())"
   ]
  },
  {
   "cell_type": "markdown",
   "metadata": {},
   "source": [
    "### Wind Vane (or wind direction) specific table"
   ]
  },
  {
   "cell_type": "code",
   "execution_count": null,
   "metadata": {},
   "outputs": [],
   "source": [
    "for meas_loc in meta_data['measurement_location']:    \n",
    "    sensors_table = _format_sensor_table(logger_meas_configs, table_type='direction_info')\n",
    "    display(sensors_table.drop_duplicates())"
   ]
  },
  {
   "cell_type": "code",
   "execution_count": null,
   "metadata": {},
   "outputs": [],
   "source": [
    "logger_meas_configs"
   ]
  }
 ],
 "metadata": {
  "kernelspec": {
   "display_name": "Python 3",
   "language": "python",
   "name": "python3"
  },
  "language_info": {
   "codemirror_mode": {
    "name": "ipython",
    "version": 3
   },
   "file_extension": ".py",
   "mimetype": "text/x-python",
   "name": "python",
   "nbconvert_exporter": "python",
   "pygments_lexer": "ipython3",
   "version": "3.8.8"
  }
 },
 "nbformat": 4,
 "nbformat_minor": 4
}
