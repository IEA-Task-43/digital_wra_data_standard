{
    "cells": [
        {
            "cell_type": "markdown",
            "metadata": {},
            "source": [
                "# Example usage of the IEA Task 43 Digital Calibration Certificate Schema\n",
                "\n",
                "This notebook is intended to give an overview on the IEA Task 43 digital calibration certificate schema for anemometer calibrations according to IEC61400-12-1:2017. It is intended for end-users and will show you how to load the data and make something usefull with it."
            ]
        },
        {
            "cell_type": "code",
            "execution_count": 1,
            "metadata": {},
            "outputs": [],
            "source": [
                "import pandas as pd\n",
                "import numpy as np\n",
                "import pylab as plt\n",
                "import json\n",
                "import jsonschema  # only used for validation\n",
                "from collections import namedtuple\n",
                "import warnings\n",
                "warnings.filterwarnings('ignore')"
            ]
        },
        {
            "cell_type": "markdown",
            "metadata": {},
            "source": [
                "# Loading the data\n",
                "We first load the calibration certficate and verify that it's fulfilling the defined schema. Loading a JSON-file is easy and will return a dict-object:"
            ]
        },
        {
            "cell_type": "code",
            "execution_count": 2,
            "metadata": {},
            "outputs": [],
            "source": [
                "dcc_filepath = r'..\\\\demo_data\\\\anemometer_calibration_certificate.json'\n",
                "schema_filepath = r'..\\\\schema\\\\iea43_digital_calibration_certificate.schema.json'\n",
                "\n",
                "with open(dcc_filepath, 'r') as f:\n",
                "    sample_cal = json.load(f) \n",
                "with open(schema_filepath, 'r') as f:\n",
                "    calibration_schema = json.load(f) \n",
                "\n",
                "# this step is optional\n",
                "try:\n",
                "    jsonschema.validate(sample_cal, calibration_schema)\n",
                "except jsonschema.ValidationError as e:\n",
                "    print(\"Sample data is INVALID!\")\n",
                "    raise e\n"
            ]
        },
        {
            "cell_type": "markdown",
            "metadata": {},
            "source": [
                "# Meta data\n",
                "Now that we know that the data is valid, lets explore it a little bit. The format is pretty much self-explenatory. We start with some meta data"
            ]
        },
        {
            "cell_type": "code",
            "execution_count": 3,
            "metadata": {},
            "outputs": [
                {
                    "data": {
                        "text/plain": [
                            "'2110000'"
                        ]
                    },
                    "execution_count": 3,
                    "metadata": {},
                    "output_type": "execute_result"
                }
            ],
            "source": [
                "sample_cal['calibration_id']"
            ]
        },
        {
            "cell_type": "code",
            "execution_count": 4,
            "metadata": {},
            "outputs": [
                {
                    "data": {
                        "text/plain": [
                            "{'accreditation_id': 'D-K-15140-01-00',\n",
                            " 'company_name': 'Deutsche WindGuard Wind Tunnel Services GmbH',\n",
                            " 'address': 'Oldenburger Str. 65, DE-26123 Varel',\n",
                            " 'reference': 'VTXXXXXX'}"
                        ]
                    },
                    "execution_count": 4,
                    "metadata": {},
                    "output_type": "execute_result"
                }
            ],
            "source": [
                "sample_cal['calibration_lab']"
            ]
        },
        {
            "cell_type": "code",
            "execution_count": 5,
            "metadata": {},
            "outputs": [
                {
                    "data": {
                        "text/plain": [
                            "{'company_name': 'Example Customer',\n",
                            " 'address': 'Example Customer Address',\n",
                            " 'reference': 'Example Ordercode'}"
                        ]
                    },
                    "execution_count": 5,
                    "metadata": {},
                    "output_type": "execute_result"
                }
            ],
            "source": [
                "sample_cal['customer']"
            ]
        },
        {
            "cell_type": "markdown",
            "metadata": {},
            "source": [
                "# Test Item\n",
                "Information about the calibrated wind sensor can be found in the 'test_item' field:"
            ]
        },
        {
            "cell_type": "code",
            "execution_count": 6,
            "metadata": {},
            "outputs": [
                {
                    "data": {
                        "text/plain": [
                            "{'model': 'Example Anemometer',\n",
                            " 'serial_number': 'Example Serial Number',\n",
                            " 'description': 'Cup Anemometer',\n",
                            " 'oem': {'company_name': 'Example Manufacturer',\n",
                            "  'address': 'Example Manufacturer Address'}}"
                        ]
                    },
                    "execution_count": 6,
                    "metadata": {},
                    "output_type": "execute_result"
                }
            ],
            "source": [
                "sample_cal['test_item']"
            ]
        },
        {
            "cell_type": "markdown",
            "metadata": {},
            "source": [
                "# Calibration Setup\n",
                "The format contains information on how the calibration was set-up. This part for example contains the calibration date, information about the mounting of the instrument, additional notes about the calibration and also introduces the **Quantity** datatype also used for the calibration result."
            ]
        },
        {
            "cell_type": "code",
            "execution_count": 7,
            "metadata": {},
            "outputs": [
                {
                    "data": {
                        "text/plain": [
                            "{'value': 33.7, 'unit': 'mm'}"
                        ]
                    },
                    "execution_count": 7,
                    "metadata": {},
                    "output_type": "execute_result"
                }
            ],
            "source": [
                "sample_cal['setup']['mounting_diameter']"
            ]
        },
        {
            "cell_type": "markdown",
            "metadata": {},
            "source": [
                "This is a **Quantity**. All numbers inside the format are Quantities. Quantities have two guaranteed fields: 'value' and 'unit' but can additionally hold information about an associated uncertainty and its coverage factor. To make working with this datatype easier, lets make this a class:"
            ]
        },
        {
            "cell_type": "code",
            "execution_count": 8,
            "metadata": {},
            "outputs": [
                {
                    "data": {
                        "text/plain": [
                            "33.7"
                        ]
                    },
                    "execution_count": 8,
                    "metadata": {},
                    "output_type": "execute_result"
                }
            ],
            "source": [
                "Quantity = namedtuple('Quantity', 'value, unit, uncertainty, k')\n",
                "\n",
                "def quantity_from_dict(quantity_dict):\n",
                "    '''\n",
                "    returns a Quantity object created from a dict containing.\n",
                "    '''\n",
                "    value = quantity_dict['value']\n",
                "    unit = quantity_dict['unit']\n",
                "    if 'uncertainty' in quantity_dict:\n",
                "        uncertainty = quantity_dict['uncertainty']['value']\n",
                "        coverage_factor = quantity_dict['uncertainty']['coverage_factor']\n",
                "    else:\n",
                "        uncertainty = np.nan\n",
                "        coverage_factor = np.nan\n",
                "    return Quantity(value, unit, uncertainty, coverage_factor)\n",
                "\n",
                "mounting_diameter = quantity_from_dict(sample_cal['setup']['mounting_diameter'])\n",
                "mounting_diameter.value"
            ]
        },
        {
            "cell_type": "markdown",
            "metadata": {},
            "source": [
                "# Calibration Result\n",
                "Now let's have a look at the calibration result table:"
            ]
        },
        {
            "cell_type": "code",
            "execution_count": 9,
            "metadata": {},
            "outputs": [
                {
                    "data": {
                        "text/plain": [
                            "[{'index': '1',\n",
                            "  'reference': {'value': 3.936,\n",
                            "   'unit': 'm/s',\n",
                            "   'uncertainty': {'value': 0.05, 'coverage_factor': 2}},\n",
                            "  'test_item': {'value': 80.67,\n",
                            "   'unit': 'Hz',\n",
                            "   'uncertainty': {'value': 0.2, 'coverage_factor': 2}},\n",
                            "  'deviation': {'value': -0.009,\n",
                            "   'unit': 'm/s',\n",
                            "   'uncertainty': {'value': 0.051, 'coverage_factor': 2}}},\n",
                            " {'index': '2',\n",
                            "  'reference': {'value': 6.088,\n",
                            "   'unit': 'm/s',\n",
                            "   'uncertainty': {'value': 0.05, 'coverage_factor': 2}},\n",
                            "  'test_item': {'value': 127.6,\n",
                            "   'unit': 'Hz',\n",
                            "   'uncertainty': {'value': 0.3, 'coverage_factor': 2}},\n",
                            "  'deviation': {'value': -0.01,\n",
                            "   'unit': 'm/s',\n",
                            "   'uncertainty': {'value': 0.052, 'coverage_factor': 2}}},\n",
                            " {'index': '3',\n",
                            "  'reference': {'value': 8.136,\n",
                            "   'unit': 'm/s',\n",
                            "   'uncertainty': {'value': 0.05, 'coverage_factor': 2}},\n",
                            "  'test_item': {'value': 172.15,\n",
                            "   'unit': 'Hz',\n",
                            "   'uncertainty': {'value': 0.41, 'coverage_factor': 2}},\n",
                            "  'deviation': {'value': -0.005,\n",
                            "   'unit': 'm/s',\n",
                            "   'uncertainty': {'value': 0.053, 'coverage_factor': 2}}},\n",
                            " {'index': '4',\n",
                            "  'reference': {'value': 9.994,\n",
                            "   'unit': 'm/s',\n",
                            "   'uncertainty': {'value': 0.05, 'coverage_factor': 2}},\n",
                            "  'test_item': {'value': 211.91,\n",
                            "   'unit': 'Hz',\n",
                            "   'uncertainty': {'value': 0.49, 'coverage_factor': 2}},\n",
                            "  'deviation': {'value': 0.028,\n",
                            "   'unit': 'm/s',\n",
                            "   'uncertainty': {'value': 0.055, 'coverage_factor': 2}}},\n",
                            " {'index': '5',\n",
                            "  'reference': {'value': 11.975,\n",
                            "   'unit': 'm/s',\n",
                            "   'uncertainty': {'value': 0.06, 'coverage_factor': 2}},\n",
                            "  'test_item': {'value': 255.1,\n",
                            "   'unit': 'Hz',\n",
                            "   'uncertainty': {'value': 0.52, 'coverage_factor': 2}},\n",
                            "  'deviation': {'value': 0.028,\n",
                            "   'unit': 'm/s',\n",
                            "   'uncertainty': {'value': 0.064, 'coverage_factor': 2}}},\n",
                            " {'index': '6',\n",
                            "  'reference': {'value': 13.941,\n",
                            "   'unit': 'm/s',\n",
                            "   'uncertainty': {'value': 0.07, 'coverage_factor': 2}},\n",
                            "  'test_item': {'value': 298.31,\n",
                            "   'unit': 'Hz',\n",
                            "   'uncertainty': {'value': 0.54, 'coverage_factor': 2}},\n",
                            "  'deviation': {'value': 0.012,\n",
                            "   'unit': 'm/s',\n",
                            "   'uncertainty': {'value': 0.074, 'coverage_factor': 2}}},\n",
                            " {'index': '7',\n",
                            "  'reference': {'value': 16.019,\n",
                            "   'unit': 'm/s',\n",
                            "   'uncertainty': {'value': 0.08, 'coverage_factor': 2}},\n",
                            "  'test_item': {'value': 344.26,\n",
                            "   'unit': 'Hz',\n",
                            "   'uncertainty': {'value': 0.76, 'coverage_factor': 2}},\n",
                            "  'deviation': {'value': -0.018,\n",
                            "   'unit': 'm/s',\n",
                            "   'uncertainty': {'value': 0.087, 'coverage_factor': 2}}},\n",
                            " {'index': '8',\n",
                            "  'reference': {'value': 14.969,\n",
                            "   'unit': 'm/s',\n",
                            "   'uncertainty': {'value': 0.075, 'coverage_factor': 2}},\n",
                            "  'test_item': {'value': 321.48,\n",
                            "   'unit': 'Hz',\n",
                            "   'uncertainty': {'value': 0.62, 'coverage_factor': 2}},\n",
                            "  'deviation': {'value': -0.023,\n",
                            "   'unit': 'm/s',\n",
                            "   'uncertainty': {'value': 0.08, 'coverage_factor': 2}}},\n",
                            " {'index': '9',\n",
                            "  'reference': {'value': 12.941,\n",
                            "   'unit': 'm/s',\n",
                            "   'uncertainty': {'value': 0.065, 'coverage_factor': 2}},\n",
                            "  'test_item': {'value': 276.94,\n",
                            "   'unit': 'Hz',\n",
                            "   'uncertainty': {'value': 0.56, 'coverage_factor': 2}},\n",
                            "  'deviation': {'value': -0.008,\n",
                            "   'unit': 'm/s',\n",
                            "   'uncertainty': {'value': 0.07, 'coverage_factor': 2}}},\n",
                            " {'index': '10',\n",
                            "  'reference': {'value': 10.968,\n",
                            "   'unit': 'm/s',\n",
                            "   'uncertainty': {'value': 0.055, 'coverage_factor': 2}},\n",
                            "  'test_item': {'value': 233.4,\n",
                            "   'unit': 'Hz',\n",
                            "   'uncertainty': {'value': 0.5, 'coverage_factor': 2}},\n",
                            "  'deviation': {'value': 0.016,\n",
                            "   'unit': 'm/s',\n",
                            "   'uncertainty': {'value': 0.059, 'coverage_factor': 2}}},\n",
                            " {'index': '11',\n",
                            "  'reference': {'value': 8.996,\n",
                            "   'unit': 'm/s',\n",
                            "   'uncertainty': {'value': 0.05, 'coverage_factor': 2}},\n",
                            "  'test_item': {'value': 190.96,\n",
                            "   'unit': 'Hz',\n",
                            "   'uncertainty': {'value': 0.4, 'coverage_factor': 2}},\n",
                            "  'deviation': {'value': -0.008,\n",
                            "   'unit': 'm/s',\n",
                            "   'uncertainty': {'value': 0.053, 'coverage_factor': 2}}},\n",
                            " {'index': '12',\n",
                            "  'reference': {'value': 7.06,\n",
                            "   'unit': 'm/s',\n",
                            "   'uncertainty': {'value': 0.05, 'coverage_factor': 2}},\n",
                            "  'test_item': {'value': 148.54,\n",
                            "   'unit': 'Hz',\n",
                            "   'uncertainty': {'value': 0.38, 'coverage_factor': 2}},\n",
                            "  'deviation': {'value': 0.001,\n",
                            "   'unit': 'm/s',\n",
                            "   'uncertainty': {'value': 0.053, 'coverage_factor': 2}}},\n",
                            " {'index': '13',\n",
                            "  'reference': {'value': 5.033,\n",
                            "   'unit': 'm/s',\n",
                            "   'uncertainty': {'value': 0.05, 'coverage_factor': 2}},\n",
                            "  'test_item': {'value': 104.49,\n",
                            "   'unit': 'Hz',\n",
                            "   'uncertainty': {'value': 0.23, 'coverage_factor': 2}},\n",
                            "  'deviation': {'value': -0.005,\n",
                            "   'unit': 'm/s',\n",
                            "   'uncertainty': {'value': 0.051, 'coverage_factor': 2}}}]"
                        ]
                    },
                    "execution_count": 9,
                    "metadata": {},
                    "output_type": "execute_result"
                }
            ],
            "source": [
                "sample_cal['result']['table']"
            ]
        },
        {
            "cell_type": "markdown",
            "metadata": {},
            "source": [
                "As you can see, we need to convert the data into something more tabular and useful. In it's current form, the data is split into an array of dictionarys which represent the rows of a table. Each row contains the data represented by Quantities. Here is an example on how to convert the data into a pandas.DataFrame:"
            ]
        },
        {
            "cell_type": "code",
            "execution_count": 10,
            "metadata": {},
            "outputs": [
                {
                    "data": {
                        "text/html": [
                            "<div>\n",
                            "<style scoped>\n",
                            "    .dataframe tbody tr th:only-of-type {\n",
                            "        vertical-align: middle;\n",
                            "    }\n",
                            "\n",
                            "    .dataframe tbody tr th {\n",
                            "        vertical-align: top;\n",
                            "    }\n",
                            "\n",
                            "    .dataframe thead th {\n",
                            "        text-align: right;\n",
                            "    }\n",
                            "</style>\n",
                            "<table border=\"1\" class=\"dataframe\">\n",
                            "  <thead>\n",
                            "    <tr style=\"text-align: right;\">\n",
                            "      <th></th>\n",
                            "      <th>Reference</th>\n",
                            "      <th>Reference_Uncertainty</th>\n",
                            "      <th>Test_Item</th>\n",
                            "      <th>Test_Item_Uncertainty</th>\n",
                            "      <th>Deviation</th>\n",
                            "      <th>Deviation_Uncertainty</th>\n",
                            "    </tr>\n",
                            "    <tr>\n",
                            "      <th>Index</th>\n",
                            "      <th></th>\n",
                            "      <th></th>\n",
                            "      <th></th>\n",
                            "      <th></th>\n",
                            "      <th></th>\n",
                            "      <th></th>\n",
                            "    </tr>\n",
                            "  </thead>\n",
                            "  <tbody>\n",
                            "    <tr>\n",
                            "      <th>1</th>\n",
                            "      <td>3.936</td>\n",
                            "      <td>0.050</td>\n",
                            "      <td>80.67</td>\n",
                            "      <td>0.20</td>\n",
                            "      <td>-0.009</td>\n",
                            "      <td>0.051</td>\n",
                            "    </tr>\n",
                            "    <tr>\n",
                            "      <th>2</th>\n",
                            "      <td>6.088</td>\n",
                            "      <td>0.050</td>\n",
                            "      <td>127.60</td>\n",
                            "      <td>0.30</td>\n",
                            "      <td>-0.010</td>\n",
                            "      <td>0.052</td>\n",
                            "    </tr>\n",
                            "    <tr>\n",
                            "      <th>3</th>\n",
                            "      <td>8.136</td>\n",
                            "      <td>0.050</td>\n",
                            "      <td>172.15</td>\n",
                            "      <td>0.41</td>\n",
                            "      <td>-0.005</td>\n",
                            "      <td>0.053</td>\n",
                            "    </tr>\n",
                            "    <tr>\n",
                            "      <th>4</th>\n",
                            "      <td>9.994</td>\n",
                            "      <td>0.050</td>\n",
                            "      <td>211.91</td>\n",
                            "      <td>0.49</td>\n",
                            "      <td>0.028</td>\n",
                            "      <td>0.055</td>\n",
                            "    </tr>\n",
                            "    <tr>\n",
                            "      <th>5</th>\n",
                            "      <td>11.975</td>\n",
                            "      <td>0.060</td>\n",
                            "      <td>255.10</td>\n",
                            "      <td>0.52</td>\n",
                            "      <td>0.028</td>\n",
                            "      <td>0.064</td>\n",
                            "    </tr>\n",
                            "    <tr>\n",
                            "      <th>6</th>\n",
                            "      <td>13.941</td>\n",
                            "      <td>0.070</td>\n",
                            "      <td>298.31</td>\n",
                            "      <td>0.54</td>\n",
                            "      <td>0.012</td>\n",
                            "      <td>0.074</td>\n",
                            "    </tr>\n",
                            "    <tr>\n",
                            "      <th>7</th>\n",
                            "      <td>16.019</td>\n",
                            "      <td>0.080</td>\n",
                            "      <td>344.26</td>\n",
                            "      <td>0.76</td>\n",
                            "      <td>-0.018</td>\n",
                            "      <td>0.087</td>\n",
                            "    </tr>\n",
                            "    <tr>\n",
                            "      <th>8</th>\n",
                            "      <td>14.969</td>\n",
                            "      <td>0.075</td>\n",
                            "      <td>321.48</td>\n",
                            "      <td>0.62</td>\n",
                            "      <td>-0.023</td>\n",
                            "      <td>0.080</td>\n",
                            "    </tr>\n",
                            "    <tr>\n",
                            "      <th>9</th>\n",
                            "      <td>12.941</td>\n",
                            "      <td>0.065</td>\n",
                            "      <td>276.94</td>\n",
                            "      <td>0.56</td>\n",
                            "      <td>-0.008</td>\n",
                            "      <td>0.070</td>\n",
                            "    </tr>\n",
                            "    <tr>\n",
                            "      <th>10</th>\n",
                            "      <td>10.968</td>\n",
                            "      <td>0.055</td>\n",
                            "      <td>233.40</td>\n",
                            "      <td>0.50</td>\n",
                            "      <td>0.016</td>\n",
                            "      <td>0.059</td>\n",
                            "    </tr>\n",
                            "    <tr>\n",
                            "      <th>11</th>\n",
                            "      <td>8.996</td>\n",
                            "      <td>0.050</td>\n",
                            "      <td>190.96</td>\n",
                            "      <td>0.40</td>\n",
                            "      <td>-0.008</td>\n",
                            "      <td>0.053</td>\n",
                            "    </tr>\n",
                            "    <tr>\n",
                            "      <th>12</th>\n",
                            "      <td>7.060</td>\n",
                            "      <td>0.050</td>\n",
                            "      <td>148.54</td>\n",
                            "      <td>0.38</td>\n",
                            "      <td>0.001</td>\n",
                            "      <td>0.053</td>\n",
                            "    </tr>\n",
                            "    <tr>\n",
                            "      <th>13</th>\n",
                            "      <td>5.033</td>\n",
                            "      <td>0.050</td>\n",
                            "      <td>104.49</td>\n",
                            "      <td>0.23</td>\n",
                            "      <td>-0.005</td>\n",
                            "      <td>0.051</td>\n",
                            "    </tr>\n",
                            "  </tbody>\n",
                            "</table>\n",
                            "</div>"
                        ],
                        "text/plain": [
                            "       Reference  Reference_Uncertainty  Test_Item  Test_Item_Uncertainty  \\\n",
                            "Index                                                                       \n",
                            "1          3.936                  0.050      80.67                   0.20   \n",
                            "2          6.088                  0.050     127.60                   0.30   \n",
                            "3          8.136                  0.050     172.15                   0.41   \n",
                            "4          9.994                  0.050     211.91                   0.49   \n",
                            "5         11.975                  0.060     255.10                   0.52   \n",
                            "6         13.941                  0.070     298.31                   0.54   \n",
                            "7         16.019                  0.080     344.26                   0.76   \n",
                            "8         14.969                  0.075     321.48                   0.62   \n",
                            "9         12.941                  0.065     276.94                   0.56   \n",
                            "10        10.968                  0.055     233.40                   0.50   \n",
                            "11         8.996                  0.050     190.96                   0.40   \n",
                            "12         7.060                  0.050     148.54                   0.38   \n",
                            "13         5.033                  0.050     104.49                   0.23   \n",
                            "\n",
                            "       Deviation  Deviation_Uncertainty  \n",
                            "Index                                    \n",
                            "1         -0.009                  0.051  \n",
                            "2         -0.010                  0.052  \n",
                            "3         -0.005                  0.053  \n",
                            "4          0.028                  0.055  \n",
                            "5          0.028                  0.064  \n",
                            "6          0.012                  0.074  \n",
                            "7         -0.018                  0.087  \n",
                            "8         -0.023                  0.080  \n",
                            "9         -0.008                  0.070  \n",
                            "10         0.016                  0.059  \n",
                            "11        -0.008                  0.053  \n",
                            "12         0.001                  0.053  \n",
                            "13        -0.005                  0.051  "
                        ]
                    },
                    "execution_count": 10,
                    "metadata": {},
                    "output_type": "execute_result"
                }
            ],
            "source": [
                "def result_table_from_dict(result_table_dict):\n",
                "    '''\n",
                "    returns a pandas.DataFrame created from a dict containing a result table.\n",
                "    '''\n",
                "    table_data = []\n",
                "    for row in result_table_dict:\n",
                "        index = row['index']\n",
                "        reference = quantity_from_dict(row['reference'])\n",
                "        test_item = quantity_from_dict(row['test_item'])\n",
                "        deviation = quantity_from_dict(row['deviation'])\n",
                "        table_data.append([index, reference.value, reference.uncertainty, test_item.value, test_item.uncertainty, deviation.value, deviation.uncertainty])\n",
                "    df = pd.DataFrame(table_data, columns=['Index', 'Reference', 'Reference_Uncertainty', 'Test_Item', 'Test_Item_Uncertainty', 'Deviation', 'Deviation_Uncertainty'])\n",
                "    df = df.set_index('Index')\n",
                "    return df\n",
                "\n",
                "result_table = result_table_from_dict(sample_cal['result']['table'])\n",
                "result_table"
            ]
        },
        {
            "cell_type": "markdown",
            "metadata": {},
            "source": [
                "Let's have a look at the data:"
            ]
        },
        {
            "cell_type": "code",
            "execution_count": 14,
            "metadata": {},
            "outputs": [
                {
                    "data": {
                        "image/png": "[encoded data removed]",
                        "text/plain": [
                            "<Figure size 432x288 with 1 Axes>"
                        ]
                    },
                    "metadata": {
                        "needs_background": "light"
                    },
                    "output_type": "display_data"
                }
            ],
            "source": [
                " %matplotlib inline\n",
                "\n",
                "plt.title('Calibration Result')\n",
                "plt.plot(result_table['Reference'], result_table['Test_Item'], 'o')\n",
                "plt.xlabel('Reference / {}'.format(sample_cal['result']['table'][0]['reference']['unit']))\n",
                "plt.ylabel('Test Item / {}'.format(sample_cal['result']['table'][0]['test_item']['unit']))\n",
                "plt.grid()\n"
            ]
        },
        {
            "cell_type": "markdown",
            "metadata": {},
            "source": [
                "If only the reference, test item output and the uncertainty is given, we can easily calculate the deviation (or residuals) ourself. For this we use the **slope** and **offset** given in the 'linear_regression' field of the 'result':"
            ]
        },
        {
            "cell_type": "code",
            "execution_count": 17,
            "metadata": {},
            "outputs": [
                {
                    "data": {
                        "image/png": "[encoded data removed]",
                        "text/plain": [
                            "<Figure size 432x288 with 1 Axes>"
                        ]
                    },
                    "metadata": {
                        "needs_background": "light"
                    },
                    "output_type": "display_data"
                }
            ],
            "source": [
                "%matplotlib inline\n",
                "# example for direct access to a quantity.\n",
                "slope = sample_cal['result']['linear_regression']['slope']['value']\n",
                "# example for usage with the Quantity class. With this we have full access to all attributes\n",
                "offset = quantity_from_dict(sample_cal['result']['linear_regression']['offset'])\n",
                "test_item_ms = slope * result_table['Test_Item'] + offset.value\n",
                "plt.title('Residuals / Deviation')\n",
                "plt.errorbar(result_table['Reference'], result_table['Reference'] - test_item_ms, yerr=result_table['Deviation_Uncertainty'], fmt='o')\n",
                "plt.xlabel('Reference / {}'.format(sample_cal['result']['table'][0]['reference']['unit']))\n",
                "plt.ylabel('Deviation / {}'.format(sample_cal['result']['table'][0]['deviation']['unit']))\n",
                "plt.ylim(-0.2, +0.2)\n",
                "plt.grid()"
            ]
        }
    ],
    "metadata": {
        "interpreter": {
            "hash": "93296eb80232286735a57e8bbf614aba49ae30a3e95ac06c59de5e3c9b9fb8a8"
        },
        "kernelspec": {
            "display_name": "Python 3.7.4 64-bit",
            "name": "python3"
        },
        "language_info": {
            "codemirror_mode": {
                "name": "ipython",
                "version": 3
            },
            "file_extension": ".py",
            "mimetype": "text/x-python",
            "name": "python",
            "nbconvert_exporter": "python",
            "pygments_lexer": "ipython3",
            "version": "3.7.4"
        },
        "orig_nbformat": 4
    },
    "nbformat": 4,
    "nbformat_minor": 2
}
